{
 "cells": [
  {
   "cell_type": "markdown",
   "metadata": {},
   "source": [
    "## Not used for thesis"
   ]
  },
  {
   "cell_type": "code",
   "execution_count": 1,
   "metadata": {},
   "outputs": [
    {
     "data": {
      "text/plain": [
       "Plots.GRBackend()"
      ]
     },
     "metadata": {},
     "output_type": "display_data"
    }
   ],
   "source": [
    "ENV[\"GKS_ENCODING\"]=\"utf-8\"\n",
    "\n",
    "using LinearAlgebra\n",
    "using Statistics\n",
    "using Plots\n",
    "using JSON\n",
    "using HDF5\n",
    "using StatsPlots\n",
    "\n",
    "gr(fontfamily=\"Helvetica\")\n",
    "#default(fontfamily=\"Helvetica\")"
   ]
  },
  {
   "cell_type": "code",
   "execution_count": 2,
   "metadata": {},
   "outputs": [
    {
     "data": {
      "text/plain": [
       "1.495978e8"
      ]
     },
     "metadata": {},
     "output_type": "display_data"
    }
   ],
   "source": [
    "colors = [:orange, :black, :gold, :blue, :red, :brown, :bisque4, :gray, :blue, :black] #惑星の色\n",
    "AU = 1.495978e8 #AU"
   ]
  },
  {
   "cell_type": "code",
   "execution_count": 6,
   "metadata": {},
   "outputs": [
    {
     "data": {
      "text/plain": [
       "loadMass (generic function with 1 method)"
      ]
     },
     "metadata": {},
     "output_type": "display_data"
    }
   ],
   "source": [
    "function loadMass(key, epoch)\n",
    "    file = JSON.parsefile(\"../Resources/nasa_data.json\")\n",
    "    data = file[epoch][key]\n",
    "    return data[\"mass\"]\n",
    "end"
   ]
  },
  {
   "cell_type": "code",
   "execution_count": 7,
   "metadata": {},
   "outputs": [
    {
     "data": {
      "text/plain": [
       "diff_two_orbit_bary (generic function with 1 method)"
      ]
     },
     "metadata": {},
     "output_type": "display_data"
    }
   ],
   "source": [
    "function diff_two_orbit(f1, f2, tEnd, dt, chunk_size, index1, index2)\n",
    "    Nt = Int(ceil(tEnd/dt))\n",
    "    dist = zeros(Nt)\n",
    "    for c in 1:Int(Nt/chunk_size)\n",
    "        chunk1 = read(f1, \"/data/$c\")\n",
    "        chunk2 = read(f2, \"/data/$c\")\n",
    "        for i in 1:chunk_size\n",
    "            dist[chunk_size*(c-1)+i] = sqrt(\n",
    "                (chunk1[index1,1,i] - chunk2[index2,1,i])^2 +\n",
    "                (chunk1[index1,2,i] - chunk2[index2,2,i])^2 + \n",
    "                (chunk1[index1,3,i] - chunk2[index2,3,i])^2\n",
    "            ) / AU\n",
    "        end\n",
    "    end\n",
    "    return dist\n",
    "end\n",
    "function diff_two_orbit_bary(f1, f2, tEnd, dt, chunk_size, index1, index2, m_earth, m_moon)\n",
    "    Nt = Int(ceil(tEnd/dt))\n",
    "    dist = zeros(Nt)\n",
    "    moon = 10\n",
    "    for c in 1:Int(Nt/chunk_size)\n",
    "        chunk1 = read(f1, \"/data/$c\")\n",
    "        chunk2 = read(f2, \"/data/$c\")\n",
    "        for i in 1:chunk_size\n",
    "            barycenter = [\n",
    "                chunk2[index2,1,i] * m_earth + chunk2[moon,1,i] * m_moon\n",
    "                chunk2[index2,2,i] * m_earth + chunk2[moon,2,i] * m_moon\n",
    "                chunk2[index2,3,i] * m_earth + chunk2[moon,3,i] * m_moon\n",
    "            ] ./ (m_earth + m_moon)\n",
    "            dist[chunk_size*(c-1)+i] = sqrt(\n",
    "                (chunk1[index1,1,i] - barycenter[1])^2 +\n",
    "                (chunk1[index1,2,i] - barycenter[2])^2 + \n",
    "                (chunk1[index1,3,i] - barycenter[3])^2\n",
    "            ) / AU\n",
    "        end\n",
    "    end\n",
    "    return dist\n",
    "end"
   ]
  },
  {
   "cell_type": "code",
   "execution_count": 8,
   "metadata": {},
   "outputs": [
    {
     "name": "stdout",
     "output_type": "stream",
     "text": [
      "  0.914130 seconds (18.99 M allocations: 514.387 MiB, 61.76% gc time, 1.88% compilation time)\n",
      "  1.648069 seconds (45.02 M allocations: 1.139 GiB, 54.66% gc time, 2.85% compilation time)\n"
     ]
    }
   ],
   "source": [
    "f1 = h5open(\"./results/dt1hr_tEnd36000d/k_all.h5\", \"r\")\n",
    "f2 = h5open(\"./results/dt1hr_tEnd36000d/n_earth_onl.h5\", \"r\")\n",
    "f3 = h5open(\"./results/dt1hr_tEnd36000d/k_all_bary.h5\", \"r\")\n",
    "f4 = h5open(\"./results/dt1hr_tEnd36000d/n_all.h5\", \"r\")\n",
    "tEnd = read(f1, \"/params/tend\")\n",
    "dt = read(f1, \"/params/dt\")\n",
    "chunk_size = read(f1, \"/params/chunksize\")\n",
    "\n",
    "epoch = \"2024-04-01\"\n",
    "m_earth = loadMass(\"earth\", epoch)\n",
    "m_moon = loadMass(\"moon\", epoch)\n",
    "\n",
    "@time dist1 = diff_two_orbit(f1, f2, tEnd, dt, chunk_size, 4, 2)\n",
    "@time dist2 = diff_two_orbit_bary(f3, f4, tEnd, dt, chunk_size, 4, 4, m_earth, m_moon)\n",
    "\n",
    "close(f1)\n",
    "close(f2)\n",
    "close(f3)\n",
    "close(f4)"
   ]
  },
  {
   "cell_type": "code",
   "execution_count": 9,
   "metadata": {},
   "outputs": [
    {
     "name": "stderr",
     "output_type": "stream",
     "text": [
      "GKS: invalid bitmap size\n",
      "GKS: invalid bitmap size\n"
     ]
    },
    {
     "data": {
      "text/plain": [
       "\"/Users/shim/Desktop/Tanq/Planet/Gravitational_Simulation/diff4.png\""
      ]
     },
     "metadata": {},
     "output_type": "display_data"
    }
   ],
   "source": [
    "p = plot(dist1, legend=false, dpi=300, xlabel=\" \", ylabel=\" \", color=\"red\")\n",
    "plot!(p, dist2, legend=false, color=\"blue\")\n",
    "annotate!(p, [length(dist1)-30000, length(dist2)-30000], [dist1[end]+0.01, dist2[end]-0.02], [(\"$(round(dist1[end], sigdigits=3))\", 12), (\"$(round(dist2[end], sigdigits=3))\", 12)])\n",
    "savefig(p, \"diff4.png\")"
   ]
  },
  {
   "cell_type": "code",
   "execution_count": null,
   "metadata": {},
   "outputs": [],
   "source": []
  }
 ],
 "metadata": {
  "kernelspec": {
   "display_name": "Julia 1.11.3",
   "language": "julia",
   "name": "julia-1.11"
  },
  "language_info": {
   "file_extension": ".jl",
   "mimetype": "application/julia",
   "name": "julia",
   "version": "1.11.3"
  }
 },
 "nbformat": 4,
 "nbformat_minor": 2
}
