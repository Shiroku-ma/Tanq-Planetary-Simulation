{
 "cells": [
  {
   "cell_type": "markdown",
   "metadata": {},
   "source": [
    "## #Note\n",
    "\n",
    "The reason why I made this file is that the previous one was so comlicated.  \n",
    "Now, save.jl is able to perform simulations which was individually conducted in analysis.ipynb\n",
    "\n",
    "2024/1/28\n"
   ]
  },
  {
   "cell_type": "markdown",
   "metadata": {},
   "source": [
    "Import libraries"
   ]
  },
  {
   "cell_type": "code",
   "execution_count": 2,
   "metadata": {},
   "outputs": [],
   "source": [
    "ENV[\"GKS_ENCODING\"]=\"UTF-8\"\n",
    "\n",
    "using LinearAlgebra\n",
    "using Statistics\n",
    "using Plots\n",
    "using JSON\n",
    "using HDF5\n",
    "using StatsPlots\n",
    "\n",
    "gr(fontfamily=\"Helvetica\")\n",
    "default(fontfamily=\"Helvetica\")"
   ]
  },
  {
   "cell_type": "markdown",
   "metadata": {},
   "source": [
    "Define constants"
   ]
  },
  {
   "cell_type": "code",
   "execution_count": 3,
   "metadata": {},
   "outputs": [
    {
     "data": {
      "text/plain": [
       "6.6743e-20"
      ]
     },
     "metadata": {},
     "output_type": "display_data"
    }
   ],
   "source": [
    "colors = [:orange, :black, :gold, :blue, :red, :brown, :bisque4, :gray, :blue, :black] #惑星の色\n",
    "AU = 1.495978e8 #AU\n",
    "G = 6.67430e-20 #gravitational constant (G)"
   ]
  },
  {
   "cell_type": "markdown",
   "metadata": {},
   "source": [
    "Calculate orbit elements below\n",
    "- periapsis\n",
    "- apoapsis\n",
    "- period"
   ]
  },
  {
   "cell_type": "code",
   "execution_count": 4,
   "metadata": {},
   "outputs": [
    {
     "data": {
      "text/plain": [
       "calc_orbit_elems (generic function with 1 method)"
      ]
     },
     "metadata": {},
     "output_type": "display_data"
    }
   ],
   "source": [
    "function calc_orbit_elems(N, file, tEnd, dt, chunk_size)\n",
    "    Nt = Int(ceil(tEnd/dt))\n",
    "    peri = []\n",
    "    apo = []\n",
    "    period = []\n",
    "    bef2 = 0.0\n",
    "    bef1 = 0.0\n",
    "    tmp = 0.0\n",
    "\n",
    "    @time for chunk in 1:Int(Nt/chunk_size)\n",
    "        tmp = read(file, \"/data/$chunk\")\n",
    "        for i in 1:chunk_size\n",
    "            if bef2 > bef1 < tmp[i] # periapsis\n",
    "                push!(peri, bef1/AU)\n",
    "            elseif bef2 < bef1 > tmp[i]\n",
    "                push!(apo, bef1/AU) # apoapsis\n",
    "                push!(period, (chunk_size*(chunk-1)+i-1)*dt/86400) # period\n",
    "            end\n",
    "            bef2 = bef1\n",
    "            bef1 = tmp[i]\n",
    "        end\n",
    "    end\n",
    "\n",
    "    if length(peri) < length(apo)\n",
    "        pop!(apo)\n",
    "    elseif length(peri) > length(apo)\n",
    "        pop!(peri)\n",
    "    end\n",
    "\n",
    "    return peri, apo, diff(period)\n",
    "end"
   ]
  },
  {
   "cell_type": "markdown",
   "metadata": {},
   "source": [
    "Load simulation results and run the functions above"
   ]
  },
  {
   "cell_type": "code",
   "execution_count": null,
   "metadata": {},
   "outputs": [
    {
     "name": "stdout",
     "output_type": "stream",
     "text": [
      "  0.824599 seconds (34.46 M allocations: 591.886 MiB, 10.53% gc time)\n",
      "  0.769872 seconds (34.46 M allocations: 591.886 MiB, 5.62% gc time)\n",
      "\n"
     ]
    }
   ],
   "source": [
    "f1 = h5open(\"./results/dt1hr_tEnd360000d/n_distance_sun_earth_bary.h5\", \"r\")\n",
    "f2 = h5open(\"./results/dt1hr_tEnd360000d/n_distance_sun_earth_bary_ex_jupiter.h5\", \"r\")\n",
    "# f1 and f2 must have the same params as each other's\n",
    "N = read(f1, \"/params/n\")\n",
    "tEnd = read(f1, \"/params/tend\")\n",
    "dt = read(f1, \"/params/dt\")\n",
    "chunk_size = read(f1, \"/params/chunksize\")\n",
    "\n",
    "peri1, apo1, period1 = calc_orbit_elems(N, f1, tEnd, dt, chunk_size)\n",
    "peri2, apo2, period2 = calc_orbit_elems(N, f2, tEnd, dt, chunk_size)\n",
    "\n",
    "close(f1)\n",
    "close(f2)"
   ]
  },
  {
   "cell_type": "markdown",
   "metadata": {},
   "source": [
    "Make a boxplot of eccentricity for thesis"
   ]
  },
  {
   "cell_type": "code",
   "execution_count": null,
   "metadata": {},
   "outputs": [
    {
     "name": "stdout",
     "output_type": "stream",
     "text": [
      "  0.745501 seconds (34.46 M allocations: 591.886 MiB, 6.63% gc time)\n",
      "  0.730580 seconds (34.46 M allocations: 591.886 MiB, 6.15% gc time)\n",
      "  0.728542 seconds (34.46 M allocations: 591.886 MiB, 5.94% gc time)\n",
      "  0.731661 seconds (34.46 M allocations: 591.886 MiB, 6.09% gc time)\n",
      "  0.730151 seconds (34.46 M allocations: 591.886 MiB, 6.21% gc time)\n",
      "  0.734340 seconds (34.46 M allocations: 591.886 MiB, 6.15% gc time)\n",
      "  0.756239 seconds (34.46 M allocations: 591.886 MiB, 6.09% gc time)\n",
      "  0.733973 seconds (34.46 M allocations: 591.886 MiB, 6.38% gc time)\n",
      "  0.734229 seconds (34.46 M allocations: 591.886 MiB, 6.15% gc time)\n"
     ]
    }
   ],
   "source": [
    "box = boxplot(\n",
    "    xticks = (1:9, [\"全惑星+月\", \"水星除外\", \"金星除外\", \"火星除外\", \"木星除外\", \"土星除外\", \"天王星除外\", \"海王星除外\", \"月除外\"]),\n",
    "    widen=false,\n",
    "    ylims=(0.0162, 0.0172),\n",
    "    #ylims=(364.9,365.6),\n",
    "    ylabel=\" \",\n",
    "    legend=false,\n",
    "    dpi=300,\n",
    "    rotation=45\n",
    ")\n",
    "pls = [\"mercury\", \"venus\", \"mars\", \"jupiter\", \"saturn\", \"uranus\", \"neptune\"]\n",
    "filename=\"\"\n",
    "for i in 1:9\n",
    "    if i == 1\n",
    "        filename = \"n_distance_sun_earth_bary.h5\"\n",
    "    elseif i == 9\n",
    "        filename = \"n_distance_sun_earth_ex_moon.h5\"\n",
    "    else\n",
    "        filename = \"n_distance_sun_earth_bary_ex_$(pls[i-1]).h5\"\n",
    "    end\n",
    "    f = h5open(\"./results/dt1hr_tEnd360000d/$filename\", \"r\")\n",
    "    N = read(f, \"/params/n\")\n",
    "    tEnd = read(f, \"/params/tend\")\n",
    "    dt = read(f, \"/params/dt\")\n",
    "    chunk_size = read(f, \"/params/chunksize\")\n",
    "    peri, apo, period = calc_orbit_elems(N, f, tEnd, dt, chunk_size)\n",
    "    close(f)\n",
    "    ec = (apo-peri)./(apo+peri)\n",
    "\n",
    "    boxplot!(ec)\n",
    "end\n",
    "boxplot!(box, xrotation=15)\n",
    "boxplot!(box, yrotation=0)\n",
    "boxplot!(box, ylabel=\"離心率\")\n",
    "savefig(box,\"boxplot_eccentricity_all.svg\")"
   ]
  },
  {
   "cell_type": "markdown",
   "metadata": {},
   "source": [
    "Calculate eccentricity from apoapsis and periapsis"
   ]
  },
  {
   "cell_type": "code",
   "execution_count": 104,
   "metadata": {},
   "outputs": [
    {
     "data": {
      "text/plain": [
       "985-element Vector{Float64}:\n",
       " 0.016675461233465534\n",
       " 0.01664607914821124\n",
       " 0.016659160773596898\n",
       " 0.016682141383756247\n",
       " 0.016672737002102058\n",
       " 0.016662656770515132\n",
       " 0.016665358818824708\n",
       " 0.01668311892570372\n",
       " 0.016682975500004246\n",
       " 0.01665490439304802\n",
       " ⋮\n",
       " 0.01664004138858623\n",
       " 0.016630477656293913\n",
       " 0.016638099159087913\n",
       " 0.01665183482651181\n",
       " 0.01664792439143662\n",
       " 0.01662108679664952\n",
       " 0.016637228576466212\n",
       " 0.01665964453325013\n",
       " 0.016644474299264966"
      ]
     },
     "metadata": {},
     "output_type": "display_data"
    }
   ],
   "source": [
    "ec1 = (apo1-peri1)./(apo1+peri1)\n",
    "ec2 = (apo2-peri2)./(apo2+peri2)"
   ]
  },
  {
   "cell_type": "markdown",
   "metadata": {},
   "source": [
    "Make a boxplot of eccentricity for thesis"
   ]
  },
  {
   "cell_type": "code",
   "execution_count": null,
   "metadata": {},
   "outputs": [
    {
     "data": {
      "text/plain": [
       "\"/Users/shim/Desktop/Tanq/Planet/Gravitational_Simulation/amp.svg\""
      ]
     },
     "metadata": {},
     "output_type": "display_data"
    }
   ],
   "source": [
    "p_peri = boxplot(\n",
    "    [[0.0162], ec1, [0.0162], ec2, [0.0162]],\n",
    "    xticks = (2:2:4, [\"全惑星+月\", \"木星除外\"]),\n",
    "    widen=false,\n",
    "    ylims=(0.0162, 0.0172),\n",
    "    ylabel=\"離心率\",\n",
    "    color=:palegreen3,\n",
    "    legend=false,\n",
    "    size=(300,400),\n",
    "    dpi=300\n",
    ")\n",
    "\n",
    "p_period = boxplot(\n",
    "    [[364.9],period1,[364.9],period2,[364.9]],\n",
    "    xticks = (2:2:4, [\"全惑星+月\", \"木星除外\"]),\n",
    "    ylims=(364.9,365.6),\n",
    "    widen=false,\n",
    "    ylabel=\"公転周期（日）\",\n",
    "    color=:cadetblue3,\n",
    "    legend=false,\n",
    "    size=(300,400),\n",
    "    dpi=300\n",
    ")\n",
    "\n",
    "boxplot!(p_peri, xrotation=15)\n",
    "boxplot!(p_peri, yrotation=0)\n",
    "boxplot!(p_period, xrotation=15)\n",
    "boxplot!(p_period, yrotation=0)\n",
    "\n",
    "p = plot(p_peri, p_period, layout=(1,2), size=(600,400))\n",
    "\n",
    "#display(p)\n",
    "savefig(p, \"boxplot_eccentricity_period_jupiter.svg\")\n",
    "#savefig(q, \"results/charts/perihe_with_or_without_mars\")"
   ]
  },
  {
   "cell_type": "markdown",
   "metadata": {},
   "source": [
    "### Stacked Area Chart of Acceleration Proportions"
   ]
  },
  {
   "cell_type": "code",
   "execution_count": 102,
   "metadata": {},
   "outputs": [],
   "source": [
    "using LinearAlgebra\n",
    "using Statistics\n",
    "using Plots\n",
    "using FFMPEG\n",
    "using JSON\n",
    "using HDF5\n",
    "\n",
    "#=\n",
    "length:km, mass:kg, time:s, angle:rad(deg in json)\n",
    "(interval must be a multiple of dt, tEnd must be a multiple of interval)\n",
    "=#\n",
    "\n",
    "colors = [:orange, :black, :gold, :blue, :red, :brown, :bisque4, :gray, :blue, :black] #惑星の色\n",
    "AU = 1.495978e8 #AU\n",
    "G = 6.67430e-20 #gravitational constant\n",
    "PLANETS  = [\"sun\", \"mercury\", \"venus\", \"earth\", \"mars\", \"jupiter\", \"saturn\", \"uranus\", \"neptune\", \"moon\"]\n",
    "PLANETS_JP  = [\"sun\", \"水星\", \"金星\", \"地球\", \"火星\", \"木星\", \"土星\", \"天王星\", \"海王星\", \"moon\"]\n",
    "\n",
    "function accByOthers(N, file, tEnd, dt, mass, title, chunk_size, target)\n",
    "    planets_fill_color = [:snow3, :goldenrod2, :dodgerblue2, :firebrick, :goldenrod4, :wheat1, :paleturquoise1, :blue4, :gray]\n",
    "\n",
    "    p = plot(title=title, xlabel=\"経過時間(時間)\", ylabel=\"加速度の大きさ(km/s^2)\", legendfontsize=8, dpi=300)\n",
    "    Nt = Int(ceil(tEnd/dt))\n",
    "    chunk = zeros(N,3,chunk_size) #allocate memory in advance\n",
    "    accs_by_planets = zeros((N, chunk_size))\n",
    "    accs_sum = zeros(chunk_size)\n",
    "\n",
    "    used_labels = Set{String}()\n",
    "    push!(used_labels, PLANETS_JP[target]) \n",
    "\n",
    "    for c in 1:Int(Nt/chunk_size)\n",
    "        chunk = read(file, \"/data/$c\")\n",
    "        for i in 1:chunk_size\n",
    "            accs_sum[i], accs_by_planets[:,i] = getAcc(chunk[:,:,i], mass, N, target)\n",
    "        end\n",
    "        for i in 1:N-1\n",
    "            accs_sum .-= accs_by_planets[i,:]\n",
    "\n",
    "            current_label = PLANETS_JP[i + 1] # to avoid doubled label\n",
    "            if current_label in used_labels\n",
    "                label = \"\" \n",
    "            else\n",
    "                label = current_label\n",
    "                push!(used_labels, current_label)\n",
    "            end\n",
    "\n",
    "            plot!(p, 1+(c-1)*chunk_size:c*chunk_size, accs_sum, fillrange=0, color=planets_fill_color[i], label=label)\n",
    "        end\n",
    "    end\n",
    "    return p\n",
    "end\n",
    "\n",
    "function getAcc(pos, mass , N, target)\n",
    "    x = pos[target,1]\n",
    "    y = pos[target,2]\n",
    "    z = pos[target,3]\n",
    "    accs_by_planets = zeros(N)\n",
    "    ax = 0\n",
    "    ay = 0\n",
    "    az = 0\n",
    "    for i in 2:N\n",
    "        dx = pos[i,1] - x\n",
    "        dy = pos[i,2] - y\n",
    "        dz = pos[i,3] - z\n",
    "        \n",
    "        inv_r3 = (dx^2 + dy^2 + dz^2 + 1.0e-15).^(-1.5)\n",
    "        _ax = (dx * inv_r3) * mass[i]\n",
    "        _ay = (dy * inv_r3) * mass[i]\n",
    "        _az = (dz * inv_r3) * mass[i]\n",
    "        ax += _ax\n",
    "        ay += _ay\n",
    "        az += _az\n",
    "        accs_by_planets[i] = G * hypot(_ax,_ay,_az)\n",
    "    end\n",
    "    acc_sum = G * hypot(ax,ay,az) # sum of acceleration \"vector\"\n",
    "    accs_by_planets = accs_by_planets ./ sum(accs_by_planets) .* acc_sum\n",
    "\n",
    "    return acc_sum, accs_by_planets\n",
    "end\n",
    "\n",
    "function loadMassData(key, epoch)\n",
    "    file = JSON.parsefile(\"../Resources/nasa_data.json\")\n",
    "    return file[epoch][key][\"mass\"]\n",
    "end\n",
    "\n",
    "function main()\n",
    "    # Simulation must include all planets.\n",
    "\n",
    "    f = h5open(\"../Gravitational_Simulation/results/dt1hr_tEnd3600d/n_all_ex_moon.h5\", \"r\")\n",
    "    tEnd = read(f, \"/params/tend\")\n",
    "    dt = read(f, \"/params/dt\")\n",
    "    chunk_size = read(f, \"/params/chunksize\")\n",
    "    N = read(f, \"/params/n\")\n",
    "    mass = zeros(N)\n",
    "    EPOCH = \"2024-04-01\"\n",
    "    for i in 1:N\n",
    "        mass[i] = loadMassData(PLANETS[i], EPOCH)\n",
    "    end\n",
    "    p = accByOthers(N, f, tEnd, dt, mass, \"\", chunk_size, 4)\n",
    "\n",
    "    #display(p)\n",
    "    savefig(p, \"results/charts/acceleration_to_earth_ex_moon.svg\")\n",
    "    close(f)\n",
    "end\n",
    "gr()\n",
    "main()\n"
   ]
  },
  {
   "cell_type": "code",
   "execution_count": 4,
   "metadata": {},
   "outputs": [
    {
     "name": "stdout",
     "output_type": "stream",
     "text": [
      "  0.934675 seconds (1.70 M allocations: 638.623 MiB, 35.87% gc time, 54.31% compilation time: 65% of which was recompilation)\n"
     ]
    },
    {
     "data": {
      "text/plain": [
       "\"/Users/shim/Desktop/Tanq/Planet/Gravitational_Simulation/orbitno.png\""
      ]
     },
     "metadata": {},
     "output_type": "display_data"
    }
   ],
   "source": [
    "colors = [:orange, :black, :gold, :blue, :red, :brown, :bisque4, :gray, :blue, :black] #惑星の色\n",
    "AU = 1.495978e8 #AU\n",
    "\n",
    "function plotAllWithChunks(N, file, tEnd, dt, range, title, chunk_size)\n",
    "    p = scatter([], [], xlims=(-range,range), ylims=(-range,range), title=title, xlabel=\"x(au)\", ylabel=\"y(au)\", aspect_ratio=:equal, legend=false)\n",
    "    Nt = Int(ceil(tEnd/dt))\n",
    "    for c in 1:Int(Nt/chunk_size)\n",
    "        chunk = read(file, \"/data/$c\")\n",
    "        for i in 2:N\n",
    "            X = chunk[i,1,:] ./ AU\n",
    "            Y = chunk[i,2,:] ./ AU\n",
    "            plot!(p, X, Y, color=colors[i])\n",
    "        end\n",
    "    end\n",
    "    return p \n",
    "end\n",
    "\n",
    "function main()\n",
    "    f1 = h5open(\"./results/dt1hr_tEnd36000d/n_all.h5\", \"r\")\n",
    "    N = read(f1, \"/params/n\")\n",
    "    tEnd = read(f1, \"/params/tend\")\n",
    "    dt = read(f1, \"/params/dt\")\n",
    "    chunk_size = read(f1, \"/params/chunksize\")\n",
    "\n",
    "    @time p1 = plotAllWithChunks(N, f1, tEnd, dt, 5.4, \"Planets Orbits\", chunk_size)\n",
    "\n",
    "    close(f1)\n",
    "    savefig(p1, \"orbitno\")\n",
    "end\n",
    "gr()\n",
    "main()"
   ]
  },
  {
   "cell_type": "code",
   "execution_count": null,
   "metadata": {},
   "outputs": [],
   "source": []
  }
 ],
 "metadata": {
  "kernelspec": {
   "display_name": "Julia 1.11.3",
   "language": "julia",
   "name": "julia-1.11"
  },
  "language_info": {
   "file_extension": ".jl",
   "mimetype": "application/julia",
   "name": "julia",
   "version": "1.11.3"
  }
 },
 "nbformat": 4,
 "nbformat_minor": 2
}
