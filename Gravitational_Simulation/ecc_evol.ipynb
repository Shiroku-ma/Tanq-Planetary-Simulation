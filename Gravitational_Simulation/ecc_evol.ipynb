{
 "cells": [
  {
   "cell_type": "code",
   "execution_count": 1,
   "metadata": {},
   "outputs": [],
   "source": [
    "ENV[\"GKS_ENCODING\"]=\"UTF-8\"\n",
    "\n",
    "using LinearAlgebra\n",
    "using Statistics\n",
    "using Plots\n",
    "using JSON\n",
    "using HDF5\n",
    "using StatsPlots\n",
    "\n",
    "gr(fontfamily=\"Helvetica\")\n",
    "default(fontfamily=\"Helvetica\")"
   ]
  },
  {
   "cell_type": "code",
   "execution_count": 2,
   "metadata": {},
   "outputs": [
    {
     "data": {
      "text/plain": [
       "6.6743e-20"
      ]
     },
     "metadata": {},
     "output_type": "display_data"
    }
   ],
   "source": [
    "colors = [:orange, :black, :gold, :blue, :red, :brown, :bisque4, :gray, :blue, :black] #惑星の色\n",
    "AU = 1.495978e8 #AU\n",
    "G = 6.67430e-20 #gravitational constant (G)"
   ]
  },
  {
   "cell_type": "code",
   "execution_count": 76,
   "metadata": {},
   "outputs": [
    {
     "data": {
      "text/plain": [
       "calc_orbit_ec (generic function with 2 methods)"
      ]
     },
     "metadata": {},
     "output_type": "display_data"
    }
   ],
   "source": [
    "function calc_orbit_ec(N, file, tEnd, dt, chunk_size, years)\n",
    "    Nt = Int(ceil(tEnd/dt))\n",
    "    ec = zeros(years)\n",
    "    ec_i = 1\n",
    "    chunk = zeros(chunk_size)\n",
    "    apo = 0.0\n",
    "    bef2 = 0.0\n",
    "    bef1 = 0.0\n",
    "\n",
    "    for c in 1:Int(Nt/chunk_size)\n",
    "        chunk .= read(file, \"/data/\" * string(c))\n",
    "        for i in 1:chunk_size\n",
    "            if bef2 < bef1 > chunk[i]\n",
    "                apo = chunk[i]\n",
    "            elseif bef2 > bef1 < chunk[i]\n",
    "                ec[ec_i] = (apo-chunk[i])/(apo+chunk[i])\n",
    "                ec_i += 1\n",
    "            end\n",
    "            bef2 = bef1\n",
    "            bef1 = chunk[i]\n",
    "        end\n",
    "    end\n",
    "    \n",
    "    return ec\n",
    "end"
   ]
  },
  {
   "cell_type": "code",
   "execution_count": 82,
   "metadata": {},
   "outputs": [
    {
     "name": "stdout",
     "output_type": "stream",
     "text": [
      " 15.147061 seconds (150.01 k allocations: 32.670 GiB, 9.07% gc time)\n"
     ]
    }
   ],
   "source": [
    "f = h5open(\"./results/dt1hr_tEnd500000yr/n_distance_sun_earth_bary.h5\", \"r\")\n",
    "# f1 and f2 must have the same params as each other's\n",
    "N = read(f, \"/params/n\")\n",
    "tEnd = read(f, \"/params/tend\")\n",
    "dt = read(f, \"/params/dt\")\n",
    "chunk_size = read(f, \"/params/chunksize\")\n",
    "\n",
    "@time ec = calc_orbit_ec(N, f, tEnd, dt, chunk_size, 500000)\n",
    "\n",
    "close(f) "
   ]
  },
  {
   "cell_type": "code",
   "execution_count": 96,
   "metadata": {},
   "outputs": [
    {
     "data": {
      "text/plain": [
       "\"/Users/shim/Desktop/Tanq/Planet/Gravitational_Simulation/ecc_evol.png\""
      ]
     },
     "metadata": {},
     "output_type": "display_data"
    }
   ],
   "source": [
    "#delete zeros\n",
    "_end = length(ec)\n",
    "while ec[_end] == 0\n",
    "    _end -= 1\n",
    "end\n",
    "\n",
    "p = plot(\n",
    "    (@view ec[1:_end]),\n",
    "    dpi=300,\n",
    "    legend=false\n",
    ")\n",
    "\n",
    "#display(p)\n",
    "savefig(p, \"ecc_evol.png\")"
   ]
  },
  {
   "cell_type": "code",
   "execution_count": null,
   "metadata": {},
   "outputs": [],
   "source": []
  }
 ],
 "metadata": {
  "kernelspec": {
   "display_name": "Julia 1.11.3",
   "language": "julia",
   "name": "julia-1.11"
  },
  "language_info": {
   "file_extension": ".jl",
   "mimetype": "application/julia",
   "name": "julia",
   "version": "1.11.3"
  }
 },
 "nbformat": 4,
 "nbformat_minor": 2
}
